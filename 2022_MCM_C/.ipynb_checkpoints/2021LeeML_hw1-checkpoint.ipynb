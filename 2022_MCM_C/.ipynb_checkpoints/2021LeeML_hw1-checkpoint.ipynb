{
 "cells": [
  {
   "cell_type": "markdown",
   "metadata": {
    "id": "p-wPT_J-laEG"
   },
   "source": [
    "# Homework 1: COVID-19 Cases Prediction (Regression)\n",
    "首先载入数据"
   ]
  },
  {
   "cell_type": "code",
   "execution_count": 1,
   "metadata": {
    "colab": {
     "base_uri": "https://localhost:8080/"
    },
    "id": "DBpyU2D1ldWX",
    "outputId": "5cf43e88-087d-447d-a613-561d97fed773"
   },
   "outputs": [
    {
     "name": "stdout",
     "output_type": "stream",
     "text": [
      "Downloading...\n",
      "From: https://drive.google.com/uc?id=19CCyCgJrUxtvgZF53vnctJiOJ23T5mqF\n",
      "To: /content/covid.train.csv\n",
      "100% 2.00M/2.00M [00:00<00:00, 61.1MB/s]\n",
      "Downloading...\n",
      "From: https://drive.google.com/uc?id=1CE240jLm2npU-tdz81-oVKEF3T2yfT1O\n",
      "To: /content/covid.test.csv\n",
      "100% 651k/651k [00:00<00:00, 18.2MB/s]\n"
     ]
    }
   ],
   "source": [
    "!gdown --id '19CCyCgJrUxtvgZF53vnctJiOJ23T5mqF' --output covid.train.csv\n",
    "!gdown --id '1CE240jLm2npU-tdz81-oVKEF3T2yfT1O' --output covid.test.csv"
   ]
  },
  {
   "cell_type": "markdown",
   "metadata": {
    "id": "HbO1FOyCpDdG"
   },
   "source": [
    "# 导入各种Package\n"
   ]
  },
  {
   "cell_type": "code",
   "execution_count": 116,
   "metadata": {
    "colab": {
     "base_uri": "https://localhost:8080/"
    },
    "id": "hs6EgZiPpNSC",
    "outputId": "a096f230-c77b-41e5-c637-6ee85183cac1"
   },
   "outputs": [
    {
     "data": {
      "text/plain": [
       "True"
      ]
     },
     "execution_count": 116,
     "metadata": {},
     "output_type": "execute_result"
    }
   ],
   "source": [
    "import torch\n",
    "import torch.nn as nn\n",
    "from torch.utils.data import Dataset, DataLoader\n",
    "import pandas as pd\n",
    "import numpy as np\n",
    "import csv\n",
    "import time\n",
    "import matplotlib.pyplot as plt\n",
    "\n",
    "np.random.seed(2020815) # 随机数种子\n",
    "torch.cuda.is_available() # 检验GPU"
   ]
  },
  {
   "cell_type": "markdown",
   "metadata": {
    "id": "X7MY_yDfpQwQ"
   },
   "source": [
    "# 特征选择\n",
    "\n",
    "使用sklearn模块，选择十五个最相关的特征"
   ]
  },
  {
   "cell_type": "code",
   "execution_count": 99,
   "metadata": {
    "colab": {
     "base_uri": "https://localhost:8080/"
    },
    "id": "Xy7ISn7crOAG",
    "outputId": "c80fc08d-c7e2-446f-cde9-45a8c9d0fc29"
   },
   "outputs": [
    {
     "name": "stdout",
     "output_type": "stream",
     "text": [
      "size of traing data: (2700, 93)\n"
     ]
    },
    {
     "data": {
      "text/plain": [
       "[75, 57, 42, 60, 78, 43, 61, 79, 40, 58, 76, 41, 59, 77, 92]"
      ]
     },
     "execution_count": 99,
     "metadata": {},
     "output_type": "execute_result"
    }
   ],
   "source": [
    "from sklearn import feature_selection\n",
    "from sklearn.feature_selection import SelectKBest, f_regression\n",
    "from sklearn import preprocessing\n",
    "\n",
    "\n",
    "data = pd.read_csv(\"covid.train.csv\")\n",
    "# 第0列是id\n",
    "x = data[data.columns[1:94]] # type = dataframe\n",
    "y = data[data.columns[94]] # type = series\n",
    "\n",
    "print(\"size of traing data:\", x.shape)\n",
    "x = (x - x.min()) / (x.max() - x.min()) # 默认axis=0，对第一维2700个数取min,max\n",
    "# x[0:93],index从0到92，93个特征\n",
    "\n",
    "bestfeatures = SelectKBest(score_func=f_regression, k=15)\n",
    "fit = bestfeatures.fit(x, y)\n",
    "\n",
    "df_scores = pd.DataFrame(fit.scores_)\n",
    "df_columns = pd.DataFrame(x.columns)\n",
    "feature_scores = pd.concat([df_columns, df_scores], axis=1)\n",
    "feature_scores.columns = [\"Specs\", \"Score\"]\n",
    "\n",
    "\n",
    "best = feature_scores.nlargest(15,'Score')\n",
    "target = list(best.index) # 选择十五个特征\n",
    "target"
   ]
  },
  {
   "cell_type": "markdown",
   "metadata": {
    "id": "V2EB-jg1wono"
   },
   "source": [
    "# 构建数据集"
   ]
  },
  {
   "cell_type": "code",
   "execution_count": 128,
   "metadata": {
    "id": "CteXcwI4pQA2"
   },
   "outputs": [],
   "source": [
    "class Covid19Dataset(Dataset):\n",
    "  def __init__(self, path, mode, bestfeat=None):\n",
    "    self.mode = mode\n",
    "    with open(path, \"r\") as fp:\n",
    "      data = list(csv.reader(fp)) # 此时二维list数据类型是文本不是float，list无法切片两次\n",
    "      data = np.array(data[1:])[:, 1:].astype(float) # U10转为float\n",
    "\n",
    "    if target is None: # 选择特征\n",
    "      feats = list(range(93))\n",
    "    else:\n",
    "      feats = bestfeat\n",
    "\n",
    "    if mode != \"test\":\n",
    "      np.random.shuffle(data)\n",
    "    n = int(len(data) * 0.1)\n",
    "\n",
    "    if mode == \"valid\":\n",
    "      self.x = torch.FloatTensor(data[:n, feats])\n",
    "      self.y = torch.FloatTensor(data[:n, -1])\n",
    "    elif mode ==\"train\":\n",
    "      self.x = torch.FloatTensor(data[n:, feats])\n",
    "      self.y = torch.FloatTensor(data[n:, -1])\n",
    "    else:\n",
    "      self.x = torch.FloatTensor(data[:, feats])\n",
    "      self.y = None\n",
    "\n",
    "  def __getitem__(self, index):\n",
    "    if self.y is None:\n",
    "      return self.x[index]\n",
    "    else:\n",
    "      return self.x[index], self.y[index]\n",
    "  \n",
    "  def __len__(self):\n",
    "    return len(self.x)\n",
    "\n",
    "train_set = Covid19Dataset(\"covid.train.csv\", \"train\", target)\n",
    "valid_set = Covid19Dataset(\"covid.train.csv\", \"valid\", target)\n",
    "\n",
    "batch_size = 32\n",
    "train_loader = DataLoader(train_set, batch_size=batch_size, shuffle=True)\n",
    "valid_loader = DataLoader(valid_set, batch_size=batch_size, shuffle=False)"
   ]
  },
  {
   "cell_type": "markdown",
   "metadata": {
    "id": "uDQrUIUk-yQq"
   },
   "source": [
    "# 确定神经网络架构"
   ]
  },
  {
   "cell_type": "code",
   "execution_count": 114,
   "metadata": {
    "id": "d5hW3l6l8wFO"
   },
   "outputs": [],
   "source": [
    "class Net(nn.Module):\n",
    "  def __init__(self, input_dim):\n",
    "    super().__init__()\n",
    "\n",
    "    self.net = nn.Sequential(\n",
    "        nn.Linear(input_dim, 32),\n",
    "        nn.BatchNorm1d(32),\n",
    "        nn.Dropout(),\n",
    "        nn.LeakyReLU(),\n",
    "        nn.Linear(32, 1),\n",
    "    )\n",
    "  \n",
    "  def forward(self, x):\n",
    "    return self.net(x).squeeze(1)\n",
    "  "
   ]
  },
  {
   "cell_type": "markdown",
   "metadata": {
    "id": "qbqeRLeEAZOk"
   },
   "source": [
    "# 训练"
   ]
  },
  {
   "cell_type": "code",
   "execution_count": 136,
   "metadata": {
    "colab": {
     "base_uri": "https://localhost:8080/",
     "height": 1000
    },
    "id": "5WFDqFCr_CTV",
    "outputId": "a8a55db6-5875-40c9-bca1-de961e74c87d"
   },
   "outputs": [
    {
     "name": "stdout",
     "output_type": "stream",
     "text": [
      "[001/100] 0.42 sec(s) Train Loss: 9.595011 | Val loss: 9.248091\n",
      "[002/100] 0.35 sec(s) Train Loss: 8.134360 | Val loss: 7.437136\n",
      "[003/100] 0.40 sec(s) Train Loss: 6.429908 | Val loss: 4.997816\n",
      "[004/100] 0.27 sec(s) Train Loss: 4.633779 | Val loss: 4.349467\n",
      "[005/100] 0.26 sec(s) Train Loss: 3.156072 | Val loss: 2.419423\n",
      "[006/100] 0.37 sec(s) Train Loss: 2.270169 | Val loss: 1.190845\n",
      "[007/100] 0.23 sec(s) Train Loss: 1.580061 | Val loss: 0.707756\n",
      "[008/100] 0.20 sec(s) Train Loss: 1.129099 | Val loss: 0.291969\n",
      "[009/100] 0.37 sec(s) Train Loss: 1.033781 | Val loss: 0.477212\n",
      "[010/100] 0.30 sec(s) Train Loss: 0.873778 | Val loss: 0.250848\n",
      "[011/100] 0.19 sec(s) Train Loss: 0.934933 | Val loss: 0.245733\n",
      "[012/100] 0.23 sec(s) Train Loss: 0.850033 | Val loss: 0.316305\n",
      "[013/100] 0.43 sec(s) Train Loss: 0.850328 | Val loss: 0.304580\n",
      "[014/100] 0.43 sec(s) Train Loss: 0.833876 | Val loss: 0.222995\n",
      "[015/100] 0.21 sec(s) Train Loss: 0.777384 | Val loss: 0.243626\n",
      "[016/100] 0.13 sec(s) Train Loss: 0.737861 | Val loss: 0.241812\n",
      "[017/100] 0.13 sec(s) Train Loss: 0.730064 | Val loss: 0.217950\n",
      "[018/100] 0.14 sec(s) Train Loss: 0.714416 | Val loss: 0.174954\n",
      "[019/100] 0.14 sec(s) Train Loss: 0.732755 | Val loss: 0.213545\n",
      "[020/100] 0.13 sec(s) Train Loss: 0.714329 | Val loss: 0.138619\n",
      "[021/100] 0.13 sec(s) Train Loss: 0.678297 | Val loss: 0.162282\n",
      "[022/100] 0.13 sec(s) Train Loss: 0.648731 | Val loss: 0.145738\n",
      "[023/100] 0.13 sec(s) Train Loss: 0.644053 | Val loss: 0.123837\n",
      "[024/100] 0.13 sec(s) Train Loss: 0.647485 | Val loss: 0.204051\n",
      "[025/100] 0.13 sec(s) Train Loss: 0.606523 | Val loss: 0.282223\n",
      "[026/100] 0.13 sec(s) Train Loss: 0.620687 | Val loss: 0.099208\n",
      "[027/100] 0.13 sec(s) Train Loss: 0.613731 | Val loss: 0.398251\n",
      "[028/100] 0.13 sec(s) Train Loss: 0.561928 | Val loss: 0.098141\n",
      "[029/100] 0.13 sec(s) Train Loss: 0.569165 | Val loss: 0.112256\n",
      "[030/100] 0.13 sec(s) Train Loss: 0.557817 | Val loss: 0.083897\n",
      "[031/100] 0.13 sec(s) Train Loss: 0.543581 | Val loss: 0.099094\n",
      "[032/100] 0.13 sec(s) Train Loss: 0.526514 | Val loss: 0.323083\n",
      "[033/100] 0.14 sec(s) Train Loss: 0.523381 | Val loss: 0.144366\n",
      "[034/100] 0.13 sec(s) Train Loss: 0.543854 | Val loss: 0.176949\n",
      "[035/100] 0.13 sec(s) Train Loss: 0.515753 | Val loss: 0.150248\n",
      "[036/100] 0.13 sec(s) Train Loss: 0.494307 | Val loss: 0.073839\n",
      "[037/100] 0.13 sec(s) Train Loss: 0.485117 | Val loss: 0.070262\n",
      "[038/100] 0.13 sec(s) Train Loss: 0.470624 | Val loss: 0.094420\n",
      "[039/100] 0.13 sec(s) Train Loss: 0.448603 | Val loss: 0.051382\n",
      "[040/100] 0.13 sec(s) Train Loss: 0.452487 | Val loss: 0.135036\n",
      "[041/100] 0.14 sec(s) Train Loss: 0.439867 | Val loss: 0.052462\n",
      "[042/100] 0.13 sec(s) Train Loss: 0.449442 | Val loss: 0.063766\n",
      "[043/100] 0.13 sec(s) Train Loss: 0.446765 | Val loss: 0.068748\n",
      "[044/100] 0.13 sec(s) Train Loss: 0.440432 | Val loss: 0.045350\n",
      "[045/100] 0.14 sec(s) Train Loss: 0.422514 | Val loss: 0.042295\n",
      "[046/100] 0.13 sec(s) Train Loss: 0.413281 | Val loss: 0.040152\n",
      "[047/100] 0.13 sec(s) Train Loss: 0.437551 | Val loss: 0.060273\n",
      "[048/100] 0.13 sec(s) Train Loss: 0.420626 | Val loss: 0.064095\n",
      "[049/100] 0.15 sec(s) Train Loss: 0.377939 | Val loss: 0.062820\n",
      "[050/100] 0.13 sec(s) Train Loss: 0.434501 | Val loss: 0.111884\n",
      "[051/100] 0.13 sec(s) Train Loss: 0.435842 | Val loss: 0.072288\n",
      "[052/100] 0.14 sec(s) Train Loss: 0.377228 | Val loss: 0.043082\n",
      "[053/100] 0.13 sec(s) Train Loss: 0.384490 | Val loss: 0.051143\n",
      "[054/100] 0.13 sec(s) Train Loss: 0.391377 | Val loss: 0.046064\n",
      "[055/100] 0.13 sec(s) Train Loss: 0.384116 | Val loss: 0.059814\n",
      "[056/100] 0.13 sec(s) Train Loss: 0.380771 | Val loss: 0.044177\n",
      "[057/100] 0.14 sec(s) Train Loss: 0.401826 | Val loss: 0.039384\n",
      "[058/100] 0.13 sec(s) Train Loss: 0.362418 | Val loss: 0.046567\n",
      "[059/100] 0.14 sec(s) Train Loss: 0.365880 | Val loss: 0.053416\n",
      "[060/100] 0.15 sec(s) Train Loss: 0.370018 | Val loss: 0.034916\n",
      "[061/100] 0.13 sec(s) Train Loss: 0.364164 | Val loss: 0.095324\n",
      "[062/100] 0.13 sec(s) Train Loss: 0.399380 | Val loss: 0.040216\n",
      "[063/100] 0.13 sec(s) Train Loss: 0.360356 | Val loss: 0.036860\n",
      "[064/100] 0.13 sec(s) Train Loss: 0.386642 | Val loss: 0.036315\n",
      "[065/100] 0.14 sec(s) Train Loss: 0.358283 | Val loss: 0.045963\n",
      "[066/100] 0.14 sec(s) Train Loss: 0.361117 | Val loss: 0.038673\n",
      "[067/100] 0.14 sec(s) Train Loss: 0.345686 | Val loss: 0.041269\n",
      "[068/100] 0.13 sec(s) Train Loss: 0.378897 | Val loss: 0.044299\n",
      "[069/100] 0.13 sec(s) Train Loss: 0.348830 | Val loss: 0.103853\n",
      "[070/100] 0.13 sec(s) Train Loss: 0.356067 | Val loss: 0.042788\n",
      "[071/100] 0.13 sec(s) Train Loss: 0.350764 | Val loss: 0.036421\n",
      "[072/100] 0.14 sec(s) Train Loss: 0.376470 | Val loss: 0.040591\n",
      "[073/100] 0.13 sec(s) Train Loss: 0.362099 | Val loss: 0.081720\n",
      "[074/100] 0.13 sec(s) Train Loss: 0.374962 | Val loss: 0.047240\n",
      "[075/100] 0.13 sec(s) Train Loss: 0.359019 | Val loss: 0.033007\n",
      "[076/100] 0.13 sec(s) Train Loss: 0.368715 | Val loss: 0.084886\n",
      "[077/100] 0.13 sec(s) Train Loss: 0.380988 | Val loss: 0.041673\n",
      "[078/100] 0.13 sec(s) Train Loss: 0.359653 | Val loss: 0.044881\n",
      "[079/100] 0.13 sec(s) Train Loss: 0.365532 | Val loss: 0.041814\n",
      "[080/100] 0.13 sec(s) Train Loss: 0.374016 | Val loss: 0.043004\n",
      "[081/100] 0.13 sec(s) Train Loss: 0.359995 | Val loss: 0.055376\n",
      "[082/100] 0.13 sec(s) Train Loss: 0.386375 | Val loss: 0.034710\n",
      "[083/100] 0.13 sec(s) Train Loss: 0.347144 | Val loss: 0.053181\n",
      "[084/100] 0.13 sec(s) Train Loss: 0.341653 | Val loss: 0.084557\n",
      "[085/100] 0.13 sec(s) Train Loss: 0.359409 | Val loss: 0.043940\n",
      "[086/100] 0.13 sec(s) Train Loss: 0.361885 | Val loss: 0.055291\n",
      "[087/100] 0.14 sec(s) Train Loss: 0.357994 | Val loss: 0.041350\n",
      "[088/100] 0.13 sec(s) Train Loss: 0.347780 | Val loss: 0.032835\n",
      "[089/100] 0.13 sec(s) Train Loss: 0.375266 | Val loss: 0.035294\n",
      "[090/100] 0.13 sec(s) Train Loss: 0.332181 | Val loss: 0.044290\n",
      "[091/100] 0.13 sec(s) Train Loss: 0.345335 | Val loss: 0.032138\n",
      "[092/100] 0.13 sec(s) Train Loss: 0.363609 | Val loss: 0.059027\n",
      "[093/100] 0.13 sec(s) Train Loss: 0.334502 | Val loss: 0.035648\n",
      "[094/100] 0.13 sec(s) Train Loss: 0.344534 | Val loss: 0.053241\n",
      "[095/100] 0.14 sec(s) Train Loss: 0.358883 | Val loss: 0.033218\n",
      "[096/100] 0.13 sec(s) Train Loss: 0.366653 | Val loss: 0.032417\n",
      "[097/100] 0.14 sec(s) Train Loss: 0.346053 | Val loss: 0.037074\n",
      "[098/100] 0.13 sec(s) Train Loss: 0.334389 | Val loss: 0.034765\n",
      "[099/100] 0.13 sec(s) Train Loss: 0.332065 | Val loss: 0.033428\n",
      "[100/100] 0.13 sec(s) Train Loss: 0.333578 | Val loss: 0.031340\n",
      "saving model completed!\n"
     ]
    },
    {
     "data": {
      "image/png": "[encoded data removed]",
      "text/plain": [
       "<Figure size 432x288 with 1 Axes>"
      ]
     },
     "metadata": {
      "needs_background": "light"
     },
     "output_type": "display_data"
    }
   ],
   "source": [
    "model = Net(15).cuda()\n",
    "loss = nn.MSELoss()\n",
    "optimizer = torch.optim.Adam(model.parameters(), lr=0.001)\n",
    "num_epoch = 100\n",
    "\n",
    "train_loss_lis = []\n",
    "valid_loss_lis = []\n",
    "\n",
    "for epoch in range(num_epoch):\n",
    "  epoch_start_time = time.time()\n",
    "  train_loss = 0.0\n",
    "  valid_loss = 0.0\n",
    "  model.train()  # 启用 batch normalization 和 drop out\n",
    "\n",
    "  for i, data in enumerate(train_loader):\n",
    "    # data 是一个list\n",
    "    # data[0] = [batch_size * 3 * 128 * 128], type = tensor\n",
    "    # data[1] = [batch_size] label\n",
    "    optimizer.zero_grad()\n",
    "    train_pred = model(data[0].cuda())\n",
    "\n",
    "    batch_loss = loss(train_pred, data[1].cuda())\n",
    "    batch_loss.backward()\n",
    "    optimizer.step()\n",
    "    train_loss += batch_loss.item()\n",
    "\n",
    "  model.eval()\n",
    "  with torch.no_grad():  # 被包住的代码不需要计算梯度\n",
    "      for i, data in enumerate(valid_loader):\n",
    "          valid_pred = model(data[0].cuda())\n",
    "          batch_loss = loss(valid_pred, data[1].cuda())\n",
    "          valid_loss += batch_loss.item()\n",
    "      print('[%03d/%03d] %2.2f sec(s) Train Loss: %3.6f | Val loss: %3.6f' %\n",
    "            (epoch + 1, num_epoch, time.time() - epoch_start_time,\n",
    "              train_loss / train_set.__len__(),\n",
    "              valid_loss / valid_set.__len__())\n",
    "              )\n",
    "      train_loss_lis.append(train_loss / train_set.__len__())\n",
    "      valid_loss_lis.append(valid_loss / valid_set.__len__())\n",
    "\n",
    "torch.save(model, \"./model.pkl\")\n",
    "print(\"saving model completed!\")\n",
    "\n",
    "# Loss curve\n",
    "plt.plot(train_loss_lis)\n",
    "plt.plot(valid_loss_lis)\n",
    "plt.title('Loss')\n",
    "plt.legend(['train', 'valid'])\n",
    "plt.savefig('loss.png')\n",
    "plt.show()"
   ]
  },
  {
   "cell_type": "markdown",
   "metadata": {
    "id": "Vy6HghWcEVKV"
   },
   "source": [
    "# 测试"
   ]
  },
  {
   "cell_type": "code",
   "execution_count": 137,
   "metadata": {
    "id": "0jbrTEGWBsR1"
   },
   "outputs": [],
   "source": [
    "test_set = Covid19Dataset(\"covid.test.csv\", \"test\", target)\n",
    "batch_size = 32\n",
    "test_loader = DataLoader(test_set, batch_size=batch_size, shuffle=False)\n",
    "\n",
    "model.eval()\n",
    "ans = []\n",
    "with torch.no_grad():\n",
    "  for i, data in enumerate(test_loader):\n",
    "    test_pred = model(data.cuda())\n",
    "    for y in test_pred:\n",
    "      ans.append(y)\n",
    "\n",
    "with open(\"predict.csv\", 'w') as f:\n",
    "  f.write('id,tested_positive\\n')\n",
    "  for i, y in enumerate(ans):\n",
    "    f.write('{},{}\\n'.format(i, y))"
   ]
  },
  {
   "cell_type": "code",
   "execution_count": null,
   "metadata": {
    "id": "M0531TgDExBi"
   },
   "outputs": [],
   "source": []
  }
 ],
 "metadata": {
  "accelerator": "GPU",
  "colab": {
   "collapsed_sections": [],
   "name": "2021LeeML - hw1.ipynb",
   "provenance": []
  },
  "kernelspec": {
   "display_name": "Python 3",
   "language": "python",
   "name": "python3"
  },
  "language_info": {
   "codemirror_mode": {
    "name": "ipython",
    "version": 3
   },
   "file_extension": ".py",
   "mimetype": "text/x-python",
   "name": "python",
   "nbconvert_exporter": "python",
   "pygments_lexer": "ipython3",
   "version": "3.8.6"
  }
 },
 "nbformat": 4,
 "nbformat_minor": 1
}
